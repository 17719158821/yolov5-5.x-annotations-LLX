{
 "cells": [
  {
   "cell_type": "code",
   "execution_count": 9,
   "metadata": {},
   "outputs": [],
   "source": [
    "import numpy as np\n",
    "import cv2\n",
    "import os\n",
    "from sklearn.model_selection import train_test_split\n",
    "base_mask_path = r\"E:\\2_dataset\\2D_petAndMask\\mask\"\n",
    "patient_txt = r\"E:\\2_dataset\\YoloDataSet\\patient_ids.txt\"\n",
    "img_txt = r\"E:\\2_dataset\\YoloDataSet\\img_ids.txt\""
   ]
  },
  {
   "cell_type": "code",
   "execution_count": 2,
   "metadata": {},
   "outputs": [],
   "source": [
    "# 得到所有带标签的图像的id\n",
    "# 得到所有病人id\n",
    "img_list = []\n",
    "patient_list = []\n",
    "with open(img_txt,\"r\") as f:\n",
    "    imgs = f.readlines()\n",
    "    \n",
    "    for i in imgs:\n",
    "        i = i.replace(\"\\n\",\".png\")\n",
    "        img_list.append(i)\n",
    "    f.close()\n",
    "\n",
    "with open(patient_txt,\"r\") as f:\n",
    "    p = f.readlines()\n",
    "    for i in p:\n",
    "        i = i.replace(\"\\n\",\"\")\n",
    "        patient_list.append(i)\n",
    "    f.close()\n"
   ]
  },
  {
   "cell_type": "code",
   "execution_count": 19,
   "metadata": {},
   "outputs": [],
   "source": []
  },
  {
   "cell_type": "code",
   "execution_count": 24,
   "metadata": {},
   "outputs": [],
   "source": [
    "# 生成病人标签文件夹\n",
    "labels_parent_path=r\"E:\\PycharmProjects\\pythonProject\\labels\"\n",
    "for patient in patient_list:\n",
    "    patient_path = os.path.join(labels_parent_path,patient)\n",
    "    if not os.path.exists(patient_path):\n",
    "        os.mkdir(patient_path)\n",
    "\n",
    "def bnd_box_to_yolo_line(x_min,x_max,y_min,y_max,img_size):\n",
    "       \n",
    "        \n",
    "        x_center = float((x_min + x_max)) / 2 / img_size[1]\n",
    "        y_center = float((y_min + y_max)) / 2 / img_size[0]\n",
    "\n",
    "        w = float((x_max - x_min)) / img_size[1]\n",
    "        h = float((y_max - y_min)) / img_size[0]\n",
    "\n",
    "        return x_center, y_center, w, h\n",
    "for i in img_list:\n",
    "\n",
    "    # 图片所属病人\n",
    "    img_patient = i[0:5]\n",
    "    img_path = os.path.join(base_mask_path,i)\n",
    "     \n",
    "    img = cv2.imread(img_path,0)\n",
    "    i.replace(\".png\",\"\")\n",
    "    # 将当前的图片转换成numpy数组\n",
    "    \n",
    "    img_arry = np.array(img)\n",
    "    res = np.where(img_arry > 1)\n",
    " \n",
    "    res = zip(res[0],res[1])\n",
    "    res = list(res)\n",
    "    xs = []\n",
    "    ys = []\n",
    "    for j in res:\n",
    "        xs.append(j[0])\n",
    "        ys.append(j[1])\n",
    "    x1 = min(xs)\n",
    "    x2 = max(xs)+1\n",
    "    y1 = min(ys)\n",
    "    y2 = max(ys)+1\n",
    "    x_c,y_c,w,h = bnd_box_to_yolo_line(x1,x2,y1,y2,[128,128])\n",
    "    label = \"0 {} {} {} {}\".format(x_c,y_c,w,h)\n",
    "\n",
    "    label_path = os.path.join(labels_parent_path,img_patient,\"{}{}\".format(i,\".txt\"))\n",
    "    with open(label_path,\"w\") as f:\n",
    "        f.write(label)\n",
    "        f.close()"
   ]
  },
  {
   "cell_type": "code",
   "execution_count": 23,
   "metadata": {},
   "outputs": [
    {
     "name": "stdout",
     "output_type": "stream",
     "text": [
      "[(87, 67, 1, 1)]\n"
     ]
    }
   ],
   "source": [
    "i_path = r\"E:\\2_dataset\\2D_petAndMask\\mask\\00001023.png\"\n",
    "# 获取坐标值，image的id\n",
    "def getBoundings(img_path):\n",
    "    img_id = img_path.split(\"\\\\\")[-1].split(\".\")[0]\n",
    "    img_array = np.array(cv2.imread(img_path, 0))\n",
    "    '''\n",
    "    retval 是存在多少个标签（背景也算）\n",
    "    labels 背景标识为0，第一个区域标识为1，第二个区域标识为2.。。\n",
    "    stats 将原图的对应区域的值更改为labels后的转换图\n",
    "    centroids 连通区域的质心\n",
    "    此处采用8连通作为评判连通区域的标准\n",
    "    '''\n",
    "    retval, labels, stats, centroids = cv2.connectedComponentsWithStats(img_array, connectivity=8)\n",
    "    '''\n",
    "    area_nums是指存在多少个标签\n",
    "    '''\n",
    "\n",
    "    if retval > 1:\n",
    "        area_nums = retval - 1\n",
    "        boundingboxs = []\n",
    "        for i, data in enumerate(stats):\n",
    "            if i > 0:\n",
    "                x, y, w, h, o = data\n",
    "                area = x, y, w, h\n",
    "                boundingboxs.append(area)\n",
    "\n",
    "        return boundingboxs, img_id\n",
    "    else:\n",
    "        return 0, 0\n",
    "\n",
    "res, id = getBoundings(i_path)\n",
    "\n",
    "print(res)\n"
   ]
  },
  {
   "cell_type": "code",
   "execution_count": 34,
   "metadata": {},
   "outputs": [
    {
     "name": "stdout",
     "output_type": "stream",
     "text": [
      "['00089', '00189', '00124', '00184', '00177', '00151', '00082', '00112', '00164', '00099', '00017', '00014', '00156', '00199', '00159', '00076', '00011', '00195', '00005', '00117', '00007', '00092', '00027', '00001', '00018', '00029', '00083', '00022', '00142', '00016', '00050', '00102', '00200', '00107', '00090', '00167', '00058', '00169', '00181', '00152', '00063', '00144', '00154', '00183', '00094', '00149', '00078', '00193', '00025', '00121', '00179', '00061', '00148', '00105', '00098', '00028', '00008', '00128', '00080', '00032', '00079', '00086', '00139', '00126', '00101', '00046', '00173', '00034', '00122', '00095', '00059', '00066', '00171', '00125', '00045', '00085', '00174', '00111', '00009', '00100', '00103', '00048', '00197', '00138', '00104', '00132', '00162', '00108', '00081', '00006', '00135', '00030', '00155', '00191', '00131', '00097', '00020', '00054', '00024', '00143', '00115', '00077', '00110', '00067', '00074', '00161', '00172', '00182', '00019', '00187', '00071', '00043', '00062', '00180', '00158', '00160', '00038', '00057', '00091', '00178', '00176', '00004', '00192', '00084', '00087', '00049', '00133', '00137', '00051', '00070', '00127', '00056', '00002']\n",
      "['00136', '00031', '00036', '00119', '00140', '00093', '00141', '00106', '00118', '00190', '00012', '00039', '00120', '00145', '00040', '00196', '00153', '00109', '00044', '00013', '00065', '00041', '00166', '00198', '00064', '00114', '00037', '00072', '00168', '00185', '00165', '00147']\n"
     ]
    }
   ],
   "source": [
    "# 将病人id划分成训练集与测试集 txt\n",
    "from operator import le\n",
    "import random\n",
    "\n",
    "\n",
    "with open(patient_txt,\"r\") as file:\n",
    "    patients_file = file.readlines()\n",
    "    file.close()\n",
    "patients = []\n",
    "for i in patients_file:\n",
    "    i = i.replace(\"\\n\",\"\")\n",
    "    patients.append(i)\n",
    "data_len = [i for i in range(len(patients))]\n",
    "\n",
    "random.shuffle(data_len)\n",
    "train_idx = []\n",
    "val_idx = []\n",
    "for i,idx in enumerate(data_len):\n",
    "    if i <=132:\n",
    "        train_idx.append(patients[data_len[idx]])\n",
    "    else:\n",
    "        val_idx.append(patients[data_len[idx]])\n",
    "\n",
    "print(train_idx)\n",
    "print(val_idx)\n",
    "with open(\"train.txt\",\"w\") as f:\n",
    "    for i in train_idx:\n",
    "        f.write(i+\"\\n\")\n",
    "    f.close()\n",
    "with open(\"valid.txt\",\"w\") as f:\n",
    "    for i in val_idx:\n",
    "        f.write(i+\"\\n\")\n",
    "    f.close()"
   ]
  },
  {
   "cell_type": "code",
   "execution_count": null,
   "metadata": {},
   "outputs": [],
   "source": []
  },
  {
   "cell_type": "code",
   "execution_count": null,
   "metadata": {},
   "outputs": [],
   "source": []
  },
  {
   "cell_type": "code",
   "execution_count": null,
   "metadata": {},
   "outputs": [],
   "source": []
  }
 ],
 "metadata": {
  "kernelspec": {
   "display_name": "Python 3.6.13 ('yolo')",
   "language": "python",
   "name": "python3"
  },
  "language_info": {
   "codemirror_mode": {
    "name": "ipython",
    "version": 3
   },
   "file_extension": ".py",
   "mimetype": "text/x-python",
   "name": "python",
   "nbconvert_exporter": "python",
   "pygments_lexer": "ipython3",
   "version": "3.6.13"
  },
  "orig_nbformat": 4,
  "vscode": {
   "interpreter": {
    "hash": "fe64860a8070dd7df2d818ac42fb64616cbadce7da6575a530ca5a934d68eaaf"
   }
  }
 },
 "nbformat": 4,
 "nbformat_minor": 2
}
